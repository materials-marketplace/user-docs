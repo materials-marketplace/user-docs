{
 "cells": [
  {
   "attachments": {},
   "cell_type": "markdown",
   "metadata": {},
   "source": [
    "# MarketPlace HPC Gateway SDK\n",
    "\n",
    "The HPC gateway SDK is provided for app developers or MarketPlace users to run time consuming tasks over computational clusters.\n",
    "You can install this python SDK and use it to interact with the cluster to run the simulation jobs.\n",
    "\n",
    "\n",
    "MarketPlace has two HPC deployments available, namely the IWM deployment and the EPFL Materials Cloud (mc).\n",
    "\n",
    "- The `iwm` deployment **does not** have [Slurm](https://slurm.schedmd.com/) running yet, therefore jobs cannot be submitted for now. All other capabilities are working.\n",
    "- The EPFL Materials Cloud (mc) deployment supports all capabilities and app developers can use it embedded in apps that need to run heavy calculations. \n",
    "However, the `mc` deployment is only for test purpose, the time limit of every job is hardcoded to 10 minutes. \n",
    "The `mc` deployment will end its maintenance on 1st April 2023."
   ]
  },
  {
   "attachments": {},
   "cell_type": "markdown",
   "metadata": {},
   "source": [
    "## API Summary\n",
    "This is a summary of the methods that will be explained in the next sections:\n",
    "\n",
    "- `app.heartbeat()`: check the availability of system.\n",
    "- `app.create_user()`: create a new user.\n",
    "- `app.create_job()`: prepare a new job.\n",
    "- `app.check_job_state(jobid=<jobid>)`: list files in remote job folder.\n",
    "- `app.upload_file(jobid=<jobid>, filename=<filename>, source_path=<local_file_path>`: upload a local file to the remote folder.\n",
    "- `app.download_file(jobid=<jobid>, filename=<filename>`: download a file from the remote folder.\n",
    "- `app.delete_file(jobid=jobid, filename=<filename>)`: delete a file from the remote folder.\n",
    "- `app.launch_job(jobid=<jobid>)`: launch/submit the job to the cluster queue managed by Slurm.\n",
    "- `app.cancel_job(jobid=jobid)`: cancel a submitted job."
   ]
  },
  {
   "attachments": {},
   "cell_type": "markdown",
   "metadata": {},
   "source": [
    "## Install the SDK\n",
    "\n",
    "To install the SDK package run the following command, or put `marketplace-hpc` as a dependencies of your MarketPlace app:\n",
    "\n",
    "```bash\n",
    "$ pip install marketplace-hpc\n",
    "```\n",
    "\n",
    "The source code is publicly available on [GitHub](https://github.com/materials-marketplace/hpc-gateway-app)."
   ]
  },
  {
   "attachments": {},
   "cell_type": "markdown",
   "metadata": {},
   "source": [
    "## Initialize the app instance\n",
    "\n",
    "Use `hpc_gateway_sdk.get_app` to create an interface for interacting with the HPC gateway app.\n",
    "The name can be either `iwm` or `mc` respectively. \n",
    "\n",
    "To initialize the instance, provide the deployment name and MarketPlace `access_token`. \n",
    "The `access_token` can be from the App which integrates the hpc gateway app as the calculation backend.\n",
    "\n",
    "To run this notebook, put the `.env` file with `ACCESS_TOKEN` set in the same folder."
   ]
  },
  {
   "cell_type": "code",
   "execution_count": 1,
   "metadata": {},
   "outputs": [],
   "source": [
    "from hpc_gateway_sdk import get_app\n",
    "from dotenv import load_dotenv\n",
    "import os\n",
    "\n",
    "load_dotenv(\".env\")\n",
    "\n",
    "access_token = os.environ.get(\"ACCESS_TOKEN\")\n",
    "app = get_app(name=\"mc\", access_token=access_token)"
   ]
  },
  {
   "attachments": {},
   "cell_type": "markdown",
   "metadata": {},
   "source": [
    "The first time using the HPC gateway app, you need to create the user in the database of the HPC app to record the job data corresponding to every MarketPlace user account.\n",
    "Meanwhile, `create_user` will create the user folder in the cluster to store jobs folder repository."
   ]
  },
  {
   "cell_type": "code",
   "execution_count": 2,
   "metadata": {},
   "outputs": [
    {
     "name": "stdout",
     "output_type": "stream",
     "text": [
      "{\n",
      "  \"_id\": \"638f355e57bd4aa2a97b98d0\", \n",
      "  \"email\": \"jusong.yu@epfl.ch\", \n",
      "  \"home\": \"/scratch/snx3000/jyu/firecrest/jusong_yu\", \n",
      "  \"message\": \"Success: Create user in database.\", \n",
      "  \"name\": \"Jusong Yu\"\n",
      "}\n",
      "\n"
     ]
    }
   ],
   "source": [
    "user_info = app.create_user()\n",
    "print(user_info)"
   ]
  },
  {
   "attachments": {},
   "cell_type": "markdown",
   "metadata": {},
   "source": [
    "To create a job, use the `create_job` method of the gateway app.\n",
    "It will create a job folder in the remote cluster to store files.\n",
    "The `jobid` is returned for further operations.\n",
    "The parameter `new_transformation` is a dictionary with the job information used to create the Slurm job script.\n",
    "The following parameters must be provided.\n",
    "\n",
    "- `job_name`: the name of the job.\n",
    "- `ntasks_per_node`: the number of tasks per node i.e., the mpi stacks of your job, is the number follow the `mpirun -n`.\n",
    "- `partition`: for the EPFL Materials Cloud (mc) deployment, the available partitions are `debug` and `normal`. \n",
    "- `image`: For security and agile deployment purpose, we use singularity to run the simulation inside a container. Supported URIs include:\n",
    "\n",
    "    - library: Pull an image from the currently configured library (library://user/collection/container[:tag])\n",
    "    - docker: Pull a Docker/OCI image from Docker Hub, or another OCI registry.(docker://user/image:tag)\n",
    "    - shub: Pull an image from Singularity Hub (shub://user/image:tag)\n",
    "    - oras: Pull a SIF image from an OCI registry that supports ORAS. (oras://registry/namespace/image:tag)\n",
    "    - http, https: Pull an image using the http(s) protocol\n",
    "- `executable_cmd`: the command to run the simulation inside the container.\n",
    "\n",
    "In the future, we will support using MarketPlaces's private docker register (via GitLab). \n",
    "Once we have a gitlab account for this purpose, just set following environment variables on the remote cluster.\n",
    "\n",
    "```bash\n",
    "export SINGULARITY_DOCKER_USERNAME='$oauthtoken'\n",
    "export SINGULARITY_DOCKER_PASSWORD=<redacted>\n",
    "```\n",
    "\n",
    "As mentioned, the EPFL Materials Cloud (mc) deployment is only for testing purposes, and the execution time is limited to 10 mins.\n",
    "\n",
    "To build a container that can run parallel simulations, please check the example of the LAMMPS and Quantum ESPRESSO dockerfile on https://github.com/containers4hpc.\n",
    "The container is encouraged to build based on the `base-mpi314` image which uses MPICH v3.1.4 that supports [ABI compatible](https://www.mpich.org/abi/) and can run with multiple compatible MPI libraries."
   ]
  },
  {
   "cell_type": "code",
   "execution_count": 3,
   "metadata": {},
   "outputs": [
    {
     "name": "stdout",
     "output_type": "stream",
     "text": [
      "639615ac5be67d529e2187cd\n"
     ]
    }
   ],
   "source": [
    "jobid = app.create_job(new_transformation={\n",
    "  \"job_name\": \"demo00\",\n",
    "  \"ntasks_per_node\": 1,\n",
    "  \"partition\": \"debug\",\n",
    "  \"image\": \"docker://hello-world:latest\",\n",
    "  \"executable_cmd\": \"> output\",\n",
    "})\n",
    "print(jobid)"
   ]
  },
  {
   "attachments": {},
   "cell_type": "markdown",
   "metadata": {},
   "source": [
    "The `create_job` will only prepare the folder and the Slurm job script in the remote cluster, to launch the simulation `launch_job` should be used, with the job id returned by `create_job`.\n",
    "\n",
    "An email with job state will be sent to user's email registered on the MarketPlace."
   ]
  },
  {
   "cell_type": "code",
   "execution_count": 4,
   "metadata": {},
   "outputs": [
    {
     "data": {
      "text/plain": [
       "{'jobid': '639615ac5be67d529e2187cd'}"
      ]
     },
     "execution_count": 4,
     "metadata": {},
     "output_type": "execute_result"
    }
   ],
   "source": [
    "resp = app.launch_job(jobid)\n",
    "resp"
   ]
  },
  {
   "cell_type": "markdown",
   "metadata": {},
   "source": [
    "The `check_job_state` is used to getting the file list of the job. "
   ]
  },
  {
   "cell_type": "code",
   "execution_count": 5,
   "metadata": {},
   "outputs": [
    {
     "data": {
      "text/plain": [
       "{'files': [{'group': 'mrcloud',\n",
       "   'last_modified': '2022-12-11T18:38:52',\n",
       "   'link_target': '',\n",
       "   'name': 'job.sh',\n",
       "   'permissions': 'rw-r--r--',\n",
       "   'size': '519',\n",
       "   'type': '-',\n",
       "   'user': 'jyu'},\n",
       "  {'group': 'mrcloud',\n",
       "   'last_modified': '2022-12-11T18:39:01',\n",
       "   'link_target': '',\n",
       "   'name': 'slurm-43437415.out',\n",
       "   'permissions': 'rw-r--r--',\n",
       "   'size': '0',\n",
       "   'type': '-',\n",
       "   'user': 'jyu'}],\n",
       " 'message': 'Files in the job folder.'}"
      ]
     },
     "execution_count": 5,
     "metadata": {},
     "output_type": "execute_result"
    }
   ],
   "source": [
    "resp = app.check_job_state(jobid)\n",
    "resp"
   ]
  },
  {
   "attachments": {},
   "cell_type": "markdown",
   "metadata": {},
   "source": [
    "You can cancel a job with `cancel_job`."
   ]
  },
  {
   "cell_type": "code",
   "execution_count": 6,
   "metadata": {},
   "outputs": [
    {
     "data": {
      "text/plain": [
       "{'message': 'Send cancelling signal to job-639615ac5be67d529e2187cd, of f7t job id=43437415'}"
      ]
     },
     "execution_count": 6,
     "metadata": {},
     "output_type": "execute_result"
    }
   ],
   "source": [
    "resp = app.cancel_job(jobid)\n",
    "resp"
   ]
  },
  {
   "attachments": {},
   "cell_type": "markdown",
   "metadata": {},
   "source": [
    "Input files are usually needed to run the simulation, they can be uploaded with `upload_file` as the example shown below."
   ]
  },
  {
   "cell_type": "code",
   "execution_count": 7,
   "metadata": {},
   "outputs": [
    {
     "data": {
      "text/plain": [
       "{'files': [{'group': 'mrcloud',\n",
       "   'last_modified': '2022-12-11T18:39:07',\n",
       "   'link_target': '',\n",
       "   'name': 'file_upload_test.txt',\n",
       "   'permissions': 'rw-r--r--',\n",
       "   'size': '7',\n",
       "   'type': '-',\n",
       "   'user': 'jyu'},\n",
       "  {'group': 'mrcloud',\n",
       "   'last_modified': '2022-12-11T18:38:52',\n",
       "   'link_target': '',\n",
       "   'name': 'job.sh',\n",
       "   'permissions': 'rw-r--r--',\n",
       "   'size': '519',\n",
       "   'type': '-',\n",
       "   'user': 'jyu'},\n",
       "  {'group': 'mrcloud',\n",
       "   'last_modified': '2022-12-11T18:39:05',\n",
       "   'link_target': '',\n",
       "   'name': 'output',\n",
       "   'permissions': 'rw-r--r--',\n",
       "   'size': '807',\n",
       "   'type': '-',\n",
       "   'user': 'jyu'},\n",
       "  {'group': 'mrcloud',\n",
       "   'last_modified': '2022-12-11T18:39:08',\n",
       "   'link_target': '',\n",
       "   'name': 'slurm-43437415.out',\n",
       "   'permissions': 'rw-r--r--',\n",
       "   'size': '1489',\n",
       "   'type': '-',\n",
       "   'user': 'jyu'}],\n",
       " 'message': 'Files in the job folder.'}"
      ]
     },
     "execution_count": 7,
     "metadata": {},
     "output_type": "execute_result"
    }
   ],
   "source": [
    "app.upload_file(jobid, filename=\"file_upload_test.txt\", source_path=\"./file_upload_test.txt\")\n",
    "resp = app.check_job_state(jobid)\n",
    "resp"
   ]
  },
  {
   "attachments": {},
   "cell_type": "markdown",
   "metadata": {},
   "source": [
    "Once the simulation finished or produced an error, the output (or the Slurm error file) can be downloaded. \n",
    "Binary files are supported:"
   ]
  },
  {
   "cell_type": "code",
   "execution_count": 8,
   "metadata": {},
   "outputs": [],
   "source": [
    "resp = app.download_file(jobid, filename=\"output\")\n",
    "with open(\"output\", 'wb') as csr:\n",
    "      for chunk in resp.iter_content(chunk_size=1024):\n",
    "          if chunk:\n",
    "              csr.write(chunk)"
   ]
  },
  {
   "attachments": {},
   "cell_type": "markdown",
   "metadata": {},
   "source": [
    "To delete a file in the job folder, use `delete_file`."
   ]
  },
  {
   "cell_type": "code",
   "execution_count": 9,
   "metadata": {},
   "outputs": [
    {
     "data": {
      "text/plain": [
       "{'files': [{'group': 'mrcloud',\n",
       "   'last_modified': '2022-12-11T18:38:52',\n",
       "   'link_target': '',\n",
       "   'name': 'job.sh',\n",
       "   'permissions': 'rw-r--r--',\n",
       "   'size': '519',\n",
       "   'type': '-',\n",
       "   'user': 'jyu'},\n",
       "  {'group': 'mrcloud',\n",
       "   'last_modified': '2022-12-11T18:39:05',\n",
       "   'link_target': '',\n",
       "   'name': 'output',\n",
       "   'permissions': 'rw-r--r--',\n",
       "   'size': '807',\n",
       "   'type': '-',\n",
       "   'user': 'jyu'},\n",
       "  {'group': 'mrcloud',\n",
       "   'last_modified': '2022-12-11T18:39:08',\n",
       "   'link_target': '',\n",
       "   'name': 'slurm-43437415.out',\n",
       "   'permissions': 'rw-r--r--',\n",
       "   'size': '1489',\n",
       "   'type': '-',\n",
       "   'user': 'jyu'}],\n",
       " 'message': 'Files in the job folder.'}"
      ]
     },
     "execution_count": 9,
     "metadata": {},
     "output_type": "execute_result"
    }
   ],
   "source": [
    "app.delete_file(jobid, filename=\"file_upload_test.txt\")\n",
    "resp = app.check_job_state(jobid)\n",
    "resp"
   ]
  },
  {
   "cell_type": "code",
   "execution_count": null,
   "metadata": {},
   "outputs": [],
   "source": []
  }
 ],
 "metadata": {
  "kernelspec": {
   "display_name": "venv",
   "language": "python",
   "name": "python3"
  },
  "language_info": {
   "codemirror_mode": {
    "name": "ipython",
    "version": 3
   },
   "file_extension": ".py",
   "mimetype": "text/x-python",
   "name": "python",
   "nbconvert_exporter": "python",
   "pygments_lexer": "ipython3",
   "version": "3.10.6 (main, Nov 14 2022, 16:10:14) [GCC 11.3.0]"
  },
  "orig_nbformat": 4,
  "vscode": {
   "interpreter": {
    "hash": "4b195c9ba378eb519b14e7f259b82f2dffeee53eaf931c5b8aa204642c58cd1a"
   }
  }
 },
 "nbformat": 4,
 "nbformat_minor": 2
}

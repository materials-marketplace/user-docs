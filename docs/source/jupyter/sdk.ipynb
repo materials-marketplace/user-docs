{
 "cells": [
  {
   "cell_type": "markdown",
   "metadata": {},
   "source": [
    "# Python-SDK\n",
    "\n",
    "In order to easily and effectively communicate with a registered application in MarketPlace via Python, the Python Software Development Kit (SDK) can be used. Follow the instructions on the  [application registration](../apps/registration.md) page to register an application with MarketPlace. Once the application is registered, you will find the `client_id` in the registration output.\n",
    "\n",
    "For further information about installation and usage, visit the [Python SDK repository](https://github.com/materials-marketplace/python-sdk)."
   ]
  },
  {
   "cell_type": "markdown",
   "metadata": {},
   "source": [
    "## Installation\n",
    "\n",
    "We recommend using [virtual environment](https://docs.python.org/3/tutorial/venv.html) or an environment manager like [conda](https://docs.conda.io/en/latest/).\n",
    "Once setup, you can simply install the SDK with the following command (`%` is needed for the notebook):"
   ]
  },
  {
   "cell_type": "code",
   "execution_count": null,
   "metadata": {},
   "outputs": [],
   "source": [
    "%pip install marketplace-sdk"
   ]
  },
  {
   "cell_type": "markdown",
   "metadata": {},
   "source": [
    "## How to call capabilities using the SDK?\n",
    "\n",
    "The SDK consists of all the available capabilities implemented as python functions.\n",
    "It enables users to create a python instance of a registered application and simply call the supported capabilities associated with it via class methods with appropriate inputs.\n",
    "Users can then communicate with applications without having to worry about headers, requests and responses.\n",
    "The following example is from a transformation application, i.e. it only supports transformation capabilities.\n",
    "\n",
    "Remember that an application must be purchased in the platform in order to be used."
   ]
  },
  {
   "cell_type": "markdown",
   "metadata": {},
   "source": [
    "The SDK requires two parameters to connect to the MarketPlace. These are the path to the MarketPlace instance, and an access token belonging to a user. Your token can be accessed in the _Advanced_ section of your MarketPlace profile.\n",
    "\n",
    "You can set these values as environment variables (`MP_HOST` and `MP_ACCESS_TOKEN` respectively) or send them to the constructor. Note that the MarketPlace instance corresponds to the main deployment (https://www.materials-marketplace.eu/), so it is not necessary to define it."
   ]
  },
  {
   "cell_type": "code",
   "execution_count": 5,
   "metadata": {},
   "outputs": [
    {
     "name": "stdout",
     "output_type": "stream",
     "text": [
      "SimPARTIX-App : application running.\n"
     ]
    }
   ],
   "source": [
    "from typing import List, Dict\n",
    "from marketplace.app import MarketPlaceApp\n",
    "\n",
    "mp = MarketPlaceApp(client_id=\"<registered application's client_id>\",\n",
    "                    access_token=\"<your access token>\")\n",
    "\n",
    "print(mp.heartbeat())"
   ]
  },
  {
   "cell_type": "markdown",
   "metadata": {},
   "source": [
    "Example 1: starting a new transformation by calling the `newTransformation` capability with a configuration.  \n",
    "The POST request is created by the SDK automatically and sent with the payload"
   ]
  },
  {
   "cell_type": "code",
   "execution_count": 8,
   "metadata": {},
   "outputs": [
    {
     "data": {
      "text/plain": [
       "'ec0f220f-c9e9-4d70-ad52-663d6441668a'"
      ]
     },
     "execution_count": 8,
     "metadata": {},
     "output_type": "execute_result"
    }
   ],
   "source": [
    "config = {'configuration': 1}\n",
    "transformation_id = mp.new_transformation(config)\n",
    "transformation_id"
   ]
  },
  {
   "cell_type": "markdown",
   "metadata": {},
   "source": [
    "You can now start the transformation with this `transformation_id`.\n",
    "Optionally, you can also send additional arguments pertinent to your application.\n",
    "The additional arguments (`**kwargs`) are sent as parameters along with the compulsory argument (in this case `transformation_id`)."
   ]
  },
  {
   "cell_type": "code",
   "execution_count": 9,
   "metadata": {},
   "outputs": [
    {
     "data": {
      "text/plain": [
       "\"Simulation 'ec0f220f-c9e9-4d70-ad52-663d6441668a' started successfully!\""
      ]
     },
     "execution_count": 9,
     "metadata": {},
     "output_type": "execute_result"
    }
   ],
   "source": [
    "transformation_argument = 'xyz'\n",
    "mp.start_transformation(transformation_id=transformation_id, \n",
    "                        additional_argument=transformation_argument)"
   ]
  },
  {
   "cell_type": "markdown",
   "metadata": {},
   "source": [
    "Remember that you can only access capabilities that are supported by the application. The application will support specific capabilities specified in the openAPI file used to register the application. Trying to access any unsupported capabilities throws a `NotImplemented` error."
   ]
  },
  {
   "cell_type": "code",
   "execution_count": 10,
   "metadata": {},
   "outputs": [
    {
     "ename": "NotImplementedError",
     "evalue": "The app does not support this capability.",
     "output_type": "error",
     "traceback": [
      "\u001b[0;31m---------------------------------------------------------------------------\u001b[0m",
      "\u001b[0;31mNotImplementedError\u001b[0m                       Traceback (most recent call last)",
      "\u001b[1;32m/home/dea/workspace/marketplace/docs/application-provider-docs/docs/source/jupyter/sdk.ipynb Cell 12'\u001b[0m in \u001b[0;36m<module>\u001b[0;34m\u001b[0m\n\u001b[0;32m----> <a href='vscode-notebook-cell://wsl%2Bubuntu/home/dea/workspace/marketplace/docs/application-provider-docs/docs/source/jupyter/sdk.ipynb#ch0000011vscode-remote?line=0'>1</a>\u001b[0m mp\u001b[39m.\u001b[39;49mget_collection()\n",
      "File \u001b[0;32m~/workspace/marketplace/python-sdk/marketplace/app/utils.py:21\u001b[0m, in \u001b[0;36mcheck_capability_availability.<locals>.wrapper\u001b[0;34m(instance, *args, **kwargs)\u001b[0m\n\u001b[1;32m     <a href='file:///home/dea/workspace/marketplace/python-sdk/marketplace/app/utils.py?line=17'>18</a>\u001b[0m \u001b[39m@wraps\u001b[39m(capability)\n\u001b[1;32m     <a href='file:///home/dea/workspace/marketplace/python-sdk/marketplace/app/utils.py?line=18'>19</a>\u001b[0m \u001b[39mdef\u001b[39;00m \u001b[39mwrapper\u001b[39m(instance, \u001b[39m*\u001b[39margs, \u001b[39m*\u001b[39m\u001b[39m*\u001b[39mkwargs):\n\u001b[1;32m     <a href='file:///home/dea/workspace/marketplace/python-sdk/marketplace/app/utils.py?line=19'>20</a>\u001b[0m     \u001b[39mif\u001b[39;00m capability\u001b[39m.\u001b[39m\u001b[39m__name__\u001b[39m \u001b[39mnot\u001b[39;00m \u001b[39min\u001b[39;00m instance\u001b[39m.\u001b[39mcapabilities:\n\u001b[0;32m---> <a href='file:///home/dea/workspace/marketplace/python-sdk/marketplace/app/utils.py?line=20'>21</a>\u001b[0m         \u001b[39mraise\u001b[39;00m \u001b[39mNotImplementedError\u001b[39;00m(\u001b[39m\"\u001b[39m\u001b[39mThe app does not support this capability.\u001b[39m\u001b[39m\"\u001b[39m)\n\u001b[1;32m     <a href='file:///home/dea/workspace/marketplace/python-sdk/marketplace/app/utils.py?line=21'>22</a>\u001b[0m     \u001b[39mreturn\u001b[39;00m capability(instance, \u001b[39m*\u001b[39margs, \u001b[39m*\u001b[39m\u001b[39m*\u001b[39mkwargs)\n",
      "\u001b[0;31mNotImplementedError\u001b[0m: The app does not support this capability."
     ]
    }
   ],
   "source": [
    "mp.get_collection()"
   ]
  },
  {
   "cell_type": "markdown",
   "metadata": {},
   "source": [
    "## How to modify capabilities with custom implementations?\n",
    "\n",
    "Sometimes you will need to validate or preprocess user inputs before sending the request to the MarketPlace.\n",
    "You might also require some post-processing of the responses.\n",
    "This all can be done by creating a class that inherits from `MarketPlaceApp` and overrides the necessary methods."
   ]
  },
  {
   "cell_type": "code",
   "execution_count": 11,
   "metadata": {},
   "outputs": [],
   "source": [
    "class MyMarketPlaceApp(MarketPlaceApp):\n",
    "    def heartbeat(self) -> str:\n",
    "        return f\"My app says hi: {super().heartbeat()}\""
   ]
  },
  {
   "cell_type": "markdown",
   "metadata": {},
   "source": [
    "You can now use this class to carry out these custom functionalities just defined."
   ]
  },
  {
   "cell_type": "code",
   "execution_count": 13,
   "metadata": {},
   "outputs": [
    {
     "data": {
      "text/plain": [
       "'My app says hi: SimPARTIX-App : application running.'"
      ]
     },
     "execution_count": 13,
     "metadata": {},
     "output_type": "execute_result"
    }
   ],
   "source": [
    "my_mp_app = MyMarketPlaceApp(client_id=\"<registered application's client_id>\",\n",
    "                             access_token=\"<your access token>\")\n",
    "\n",
    "transformation_id = my_mp_app.new_transformation(config)\n",
    "# Since this capability was not overridden, this will return the standard response\n",
    "\n",
    "my_mp_app.heartbeat()"
   ]
  }
 ],
 "metadata": {
  "interpreter": {
   "hash": "97ae724bfa85b9b34df7982b8bb8c7216f435b92902d749e4263f71162bea840"
  },
  "kernelspec": {
   "display_name": "Python 3.8.3 64-bit (conda)",
   "name": "python3"
  },
  "language_info": {
   "codemirror_mode": {
    "name": "ipython",
    "version": 3
   },
   "file_extension": ".py",
   "mimetype": "text/x-python",
   "name": "python",
   "nbconvert_exporter": "python",
   "pygments_lexer": "ipython3",
   "version": "3.8.0"
  },
  "orig_nbformat": 4
 },
 "nbformat": 4,
 "nbformat_minor": 2
}
